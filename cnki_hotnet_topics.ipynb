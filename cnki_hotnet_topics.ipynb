{
 "cells": [
  {
   "cell_type": "markdown",
   "metadata": {},
   "source": [
    "统计cnki中的研究热点\n",
    "------------------\n",
    "使用库 pandas.read_excel; collections.Counter; Counter.most_common()\n",
    "\n",
    "数据源： 数字出版物超市 >>中国学术文献网络出版总库 >> 学科学术热点 （互联网技术）"
   ]
  },
  {
   "cell_type": "code",
   "execution_count": 2,
   "metadata": {
    "collapsed": false
   },
   "outputs": [],
   "source": [
    "import sys\n",
    "import pandas as pd"
   ]
  },
  {
   "cell_type": "code",
   "execution_count": 3,
   "metadata": {
    "collapsed": false
   },
   "outputs": [
    {
     "data": {
      "text/plain": [
       "'utf8'"
      ]
     },
     "execution_count": 3,
     "metadata": {},
     "output_type": "execute_result"
    }
   ],
   "source": [
    "#reload(sys)\n",
    "#sys.setdefaultencoding('utf8')\n",
    "sys.getdefaultencoding()"
   ]
  },
  {
   "cell_type": "code",
   "execution_count": 8,
   "metadata": {
    "collapsed": false
   },
   "outputs": [
    {
     "name": "stdout",
     "output_type": "stream",
     "text": [
      "1\n"
     ]
    },
    {
     "data": {
      "text/html": [
       "<div>\n",
       "<table border=\"1\" class=\"dataframe\">\n",
       "  <thead>\n",
       "    <tr style=\"text-align: right;\">\n",
       "      <th></th>\n",
       "      <th>no</th>\n",
       "      <th>topic</th>\n",
       "      <th>kn</th>\n",
       "      <th>subject</th>\n",
       "      <th>hot</th>\n",
       "      <th>paper</th>\n",
       "      <th>proj</th>\n",
       "      <th>person</th>\n",
       "      <th>org</th>\n",
       "    </tr>\n",
       "  </thead>\n",
       "  <tbody>\n",
       "    <tr>\n",
       "      <th>0</th>\n",
       "      <td>序号</td>\n",
       "      <td>热点主题</td>\n",
       "      <td>主要知识点</td>\n",
       "      <td>主题所属学科名称</td>\n",
       "      <td>热度值↓</td>\n",
       "      <td>主要文献数</td>\n",
       "      <td>相关国家课题数</td>\n",
       "      <td>主要研究人员数</td>\n",
       "      <td>主要研究机构数</td>\n",
       "    </tr>\n",
       "    <tr>\n",
       "      <th>1</th>\n",
       "      <td>2</td>\n",
       "      <td>web服务;web2;web挖掘;</td>\n",
       "      <td>web服务;web2;web挖掘;web;xml;soap;敏捷供应链;互联网;uddi;移...</td>\n",
       "      <td>互联网技术;</td>\n",
       "      <td>NaN</td>\n",
       "      <td>1751</td>\n",
       "      <td>94</td>\n",
       "      <td>2925</td>\n",
       "      <td>566</td>\n",
       "    </tr>\n",
       "    <tr>\n",
       "      <th>2</th>\n",
       "      <td>1</td>\n",
       "      <td>搜索引擎;信息检索;google;</td>\n",
       "      <td>搜索引擎;信息检索;google;网页;元搜索引擎;internet;pagerank;中文...</td>\n",
       "      <td>图书情报与数字图书馆;互联网技术;</td>\n",
       "      <td>NaN</td>\n",
       "      <td>1146</td>\n",
       "      <td>31</td>\n",
       "      <td>1280</td>\n",
       "      <td>509</td>\n",
       "    </tr>\n",
       "    <tr>\n",
       "      <th>3</th>\n",
       "      <td>124</td>\n",
       "      <td>入侵检测;入侵检测系统;网络安全;</td>\n",
       "      <td>入侵检测;入侵检测系统;入侵检;网络安全;异常检测;snort;数据挖掘;入侵检测技术;协议...</td>\n",
       "      <td>互联网技术;</td>\n",
       "      <td>NaN</td>\n",
       "      <td>981</td>\n",
       "      <td>70</td>\n",
       "      <td>1750</td>\n",
       "      <td>397</td>\n",
       "    </tr>\n",
       "    <tr>\n",
       "      <th>4</th>\n",
       "      <td>89</td>\n",
       "      <td>asp;ado;web;</td>\n",
       "      <td>asp;ado;web;jsp;iis;php;留言板;数据库;web数据库;b;cgi;s...</td>\n",
       "      <td>互联网技术;计算机软件及计算机应用;</td>\n",
       "      <td>NaN</td>\n",
       "      <td>753</td>\n",
       "      <td>7</td>\n",
       "      <td>1224</td>\n",
       "      <td>525</td>\n",
       "    </tr>\n",
       "  </tbody>\n",
       "</table>\n",
       "</div>"
      ],
      "text/plain": [
       "    no              topic                                                 kn  \\\n",
       "0   序号               热点主题                                              主要知识点   \n",
       "1    2  web服务;web2;web挖掘;  web服务;web2;web挖掘;web;xml;soap;敏捷供应链;互联网;uddi;移...   \n",
       "2    1  搜索引擎;信息检索;google;  搜索引擎;信息检索;google;网页;元搜索引擎;internet;pagerank;中文...   \n",
       "3  124  入侵检测;入侵检测系统;网络安全;  入侵检测;入侵检测系统;入侵检;网络安全;异常检测;snort;数据挖掘;入侵检测技术;协议...   \n",
       "4   89       asp;ado;web;  asp;ado;web;jsp;iis;php;留言板;数据库;web数据库;b;cgi;s...   \n",
       "\n",
       "              subject   hot  paper     proj   person      org  \n",
       "0            主题所属学科名称  热度值↓  主要文献数  相关国家课题数  主要研究人员数  主要研究机构数  \n",
       "1              互联网技术;   NaN   1751       94     2925      566  \n",
       "2   图书情报与数字图书馆;互联网技术;   NaN   1146       31     1280      509  \n",
       "3              互联网技术;   NaN    981       70     1750      397  \n",
       "4  互联网技术;计算机软件及计算机应用;   NaN    753        7     1224      525  "
      ]
     },
     "execution_count": 8,
     "metadata": {},
     "output_type": "execute_result"
    }
   ],
   "source": [
    "print 1\n",
    "#fds\n",
    "df = pd.read_excel(\"cnki_hotnet_topics.xlsx\")\n",
    "\n",
    "df.head()"
   ]
  },
  {
   "cell_type": "code",
   "execution_count": 25,
   "metadata": {
    "collapsed": false
   },
   "outputs": [
    {
     "name": "stdout",
     "output_type": "stream",
     "text": [
      "kn数量为 (134,)\n"
     ]
    }
   ],
   "source": [
    "print 'kn数量为', df.kn.shape"
   ]
  },
  {
   "cell_type": "code",
   "execution_count": 49,
   "metadata": {
    "collapsed": false
   },
   "outputs": [
    {
     "name": "stdout",
     "output_type": "stream",
     "text": [
      "总计的知识点数量 2661\n",
      "算法的知识点数量 66\n"
     ]
    }
   ],
   "source": [
    "kns = [x for x in df.kn] #取出所有单元格至 list\n",
    "\n",
    "kns_origin = ''.join(kns).split(';')  #拼接 list 之后按';'分割\n",
    "print '总计的知识点数量', len(kns_origin)\n",
    "kns_algm = [x for x in kns_origin if x.find(u'算法') != -1]\n",
    "print '算法的知识点数量', len(kns_algm)\n"
   ]
  },
  {
   "cell_type": "code",
   "execution_count": 51,
   "metadata": {
    "collapsed": false
   },
   "outputs": [
    {
     "name": "stdout",
     "output_type": "stream",
     "text": [
      "=== 最常用的 33 个算法包括 ===\n",
      "遗传算法 \t\t11\n",
      "路由算法 \t\t8\n",
      "算法 \t\t5\n",
      "调度算法 \t\t4\n",
      "模式匹配算法 \t\t4\n",
      "蚁群算法 \t\t4\n",
      "任务调度算法 \t\t3\n",
      "启发式算法 \t\t2\n",
      "改进算法 \t\t1\n",
      "负载均衡算法 \t\t1\n",
      "cusum算法 \t\t1\n",
      "apriori算法 \t\t1\n",
      "bp算法 \t\t1\n",
      "kmp算法 \t\t1\n",
      "贝叶斯算法 \t\t1\n",
      "warshall算法 \t\t1\n",
      "加密算法 \t\t1\n",
      "训练算法 \t\t1\n",
      "聚类算法 \t\t1\n",
      "控制算法 \t\t1\n",
      "搜索算法 \t\t1\n",
      "网络拓扑发现算法 \t\t1\n",
      "量子遗传算法 \t\t1\n",
      "进化算法 \t\t1\n",
      "数据挖掘算法 \t\t1\n",
      "推荐算法 \t\t1\n",
      "过滤算法 \t\t1\n",
      "随机早期检测算法 \t\t1\n",
      "rsa算法 \t\t1\n",
      "拥塞控制算法 \t\t1\n",
      "多播路由算法 \t\t1\n",
      "bm算法 \t\t1\n",
      "bmh算法 \t\t1\n"
     ]
    }
   ],
   "source": [
    "from collections import Counter # 使用Counter 统计 most_common\n",
    "kcount= Counter(kns_algm)\n",
    "print \"=== 最常用的 %s 个算法包括 ===\" % (len(kcount)) \n",
    "for x in kcount.most_common():\n",
    "    print x[0], '\\t\\t' , x[1]"
   ]
  },
  {
   "cell_type": "code",
   "execution_count": null,
   "metadata": {
    "collapsed": true
   },
   "outputs": [],
   "source": []
  }
 ],
 "metadata": {
  "celltoolbar": "Raw Cell Format",
  "kernelspec": {
   "display_name": "Python 2",
   "language": "python",
   "name": "python2"
  },
  "language_info": {
   "codemirror_mode": {
    "name": "ipython",
    "version": 2
   },
   "file_extension": ".py",
   "mimetype": "text/x-python",
   "name": "python",
   "nbconvert_exporter": "python",
   "pygments_lexer": "ipython2",
   "version": "2.7.11"
  }
 },
 "nbformat": 4,
 "nbformat_minor": 0
}
